{
 "cells": [
  {
   "cell_type": "code",
   "execution_count": null,
   "id": "a64c0866",
   "metadata": {},
   "outputs": [],
   "source": [
    "import os\n",
    "import pandas as pd\n",
    "\n",
    "def extract_folder_info(folder_name):\n",
    "    \"\"\"Extract TIME and INSTANCE from the folder name.\"\"\"\n",
    "    try:\n",
    "        first_underscore = folder_name.index('_')\n",
    "        last_underscore = folder_name.rindex('_')\n",
    "        TIME = folder_name[:first_underscore]\n",
    "        INSTANCE = folder_name[first_underscore + 1:last_underscore]\n",
    "        return TIME, INSTANCE\n",
    "    except ValueError:\n",
    "        return None, None\n",
    "\n",
    "def extract_gap(result_file_path):\n",
    "    \"\"\"Extract GAP value from results.txt file.\"\"\"\n",
    "    GAP = -1.2345\n",
    "    if os.path.exists(result_file_path):\n",
    "        try:\n",
    "            with open(result_file_path, 'r') as result_file:\n",
    "                for line in result_file:\n",
    "                    if line.startswith(\"GapClosed:\"):\n",
    "                        GAP = float(line.split(':')[1].strip())\n",
    "                        break\n",
    "        except Exception as e:\n",
    "            print(f\"Error reading {result_file_path}: {e}\")\n",
    "    return GAP\n",
    "\n",
    "def extract_solving_time(solving_stat_file_path):\n",
    "    \"\"\"Extract SOLVING_TIME value from solving_statistic.txt file.\"\"\"\n",
    "    SOLVING_TIME = 3700\n",
    "    if os.path.exists(solving_stat_file_path):\n",
    "        try:\n",
    "            with open(solving_stat_file_path, 'r') as solving_stat_file:\n",
    "                for line in solving_stat_file:\n",
    "                    if line.startswith(\"Total Time\"):\n",
    "                        SOLVING_TIME = float(line.split(':')[1].strip())\n",
    "                        break\n",
    "        except Exception as e:\n",
    "            print(f\"Error reading {solving_stat_file_path}: {e}\")\n",
    "    return SOLVING_TIME\n",
    "\n",
    "def extract_feasibility(result_file_path):\n",
    "    \"\"\"Extract FEASIBLE value from results.txt file.\"\"\"\n",
    "    FEASIBLE = False\n",
    "    if os.path.exists(result_file_path):\n",
    "        try:\n",
    "            with open(result_file_path, 'r') as result_file:\n",
    "                for line in result_file:\n",
    "                    if line.startswith(\"DbgSolFeasible:\"):\n",
    "                        FEASIBLE = line.split(':')[1].strip().lower() == 'true'\n",
    "                        break\n",
    "        except Exception as e:\n",
    "            print(f\"Error reading {result_file_path}: {e}\")\n",
    "    return FEASIBLE\n",
    "\n",
    "def process_folder(folder_path, folder_name, mode):\n",
    "    \"\"\"Process each folder to extract required information.\"\"\"\n",
    "    TIME, INSTANCE = extract_folder_info(folder_name)\n",
    "    if TIME is None or INSTANCE is None:\n",
    "        return None\n",
    "\n",
    "    result_file_path = os.path.join(folder_path, 'results.txt')\n",
    "    solving_stat_file_path = os.path.join(folder_path, 'solving_statistic.txt')\n",
    "\n",
    "    GAP = extract_gap(result_file_path)\n",
    "    SOLVING_TIME = extract_solving_time(solving_stat_file_path)\n",
    "    FEASIBLE = extract_feasibility(result_file_path)\n",
    "\n",
    "    return [INSTANCE, mode, GAP, SOLVING_TIME, FEASIBLE]\n",
    "\n",
    "def fetchresult(main_dir):\n",
    "    \"\"\"Main function to iterate through directories and collect data.\"\"\"\n",
    "    data = []\n",
    "\n",
    "    for mode in os.listdir(main_dir):\n",
    "        mode_path = os.path.join(main_dir, mode)\n",
    "        if os.path.isdir(mode_path):\n",
    "            for folder_name in os.listdir(mode_path):\n",
    "                folder_path = os.path.join(mode_path, folder_name)\n",
    "                if os.path.isdir(folder_path):\n",
    "                    folder_data = process_folder(folder_path, folder_name, mode)\n",
    "                    if folder_data:\n",
    "                        data.append(folder_data)\n",
    "\n",
    "    df = pd.DataFrame(data, columns=['INSTANCE', 'MODE', 'GAP', 'TIME', 'FEASIBLE'])\n",
    "    df['GAP'] = df['GAP'].astype(float)\n",
    "\n",
    "    return df\n",
    "    # Find and print pairs that a"
   ]
  },
  {
   "cell_type": "code",
   "execution_count": null,
   "id": "50e010e2",
   "metadata": {},
   "outputs": [],
   "source": [
    "main_dir = os.path.join(os.getcwd(), 'Data')\n",
    "df = fetchresult(main_dir)"
   ]
  },
  {
   "cell_type": "code",
   "execution_count": null,
   "id": "3f2f71a7",
   "metadata": {},
   "outputs": [],
   "source": [
    "df[['INSTANCE', 'MODE']].drop_duplicates()"
   ]
  },
  {
   "cell_type": "code",
   "execution_count": null,
   "id": "b48b613a",
   "metadata": {},
   "outputs": [],
   "source": [
    "grouped_df = df.groupby(['INSTANCE', 'MODE']).size().reset_index(name='count')\n",
    "\n",
    "# Filter pairs that appear more than once\n",
    "result = grouped_df[grouped_df['count'] > 1]\n",
    "result"
   ]
  },
  {
   "cell_type": "code",
   "execution_count": null,
   "id": "3fa09367",
   "metadata": {},
   "outputs": [],
   "source": [
    "# Pivot the DataFrame to the desired format\n",
    "df_pivot = df.pivot(index='INSTANCE', columns='MODE', values=['GAP', 'TIME','FEASIBLE'])\n",
    "\n",
    "# Flatten the multi-level columns\n",
    "df_pivot.columns = ['_'.join(col).strip() for col in df_pivot.columns.values]\n",
    "\n",
    "gap_columns = [col for col in df_pivot.columns if 'GAP' in col]\n",
    "print(gap_columns)\n",
    "df_pivot[gap_columns] = (df_pivot[gap_columns].astype(float)*100).round(2)"
   ]
  },
  {
   "cell_type": "code",
   "execution_count": null,
   "id": "2c096d3d",
   "metadata": {},
   "outputs": [],
   "source": [
    "df_pivot"
   ]
  },
  {
   "cell_type": "code",
   "execution_count": null,
   "id": "0da97be8",
   "metadata": {},
   "outputs": [],
   "source": [
    "df_pivot.to_csv(\"results.csv\")"
   ]
  },
  {
   "cell_type": "code",
   "execution_count": null,
   "id": "7bd163f6",
   "metadata": {},
   "outputs": [],
   "source": [
    "df_rounded"
   ]
  },
  {
   "cell_type": "code",
   "execution_count": null,
   "id": "6b253705",
   "metadata": {},
   "outputs": [],
   "source": []
  }
 ],
 "metadata": {
  "kernelspec": {
   "display_name": "Python 3 (ipykernel)",
   "language": "python",
   "name": "python3"
  },
  "language_info": {
   "codemirror_mode": {
    "name": "ipython",
    "version": 3
   },
   "file_extension": ".py",
   "mimetype": "text/x-python",
   "name": "python",
   "nbconvert_exporter": "python",
   "pygments_lexer": "ipython3",
   "version": "3.11.5"
  }
 },
 "nbformat": 4,
 "nbformat_minor": 5
}
